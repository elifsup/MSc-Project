{
 "cells": [
  {
   "cell_type": "code",
   "execution_count": null,
   "id": "7c9256f0-3173-46c9-b68f-29ca73d09059",
   "metadata": {
    "tags": []
   },
   "outputs": [],
   "source": [
    "#from transformers import TrainingArguments\n",
    "from unsloth import is_bfloat16_supported, UnslothTrainer, UnslothTrainingArguments, FastLanguageModel\n",
    "from datasets import load_dataset, DatasetDict, Dataset\n",
    "import torch\n",
    "from tqdm import tqdm\n",
    "import numpy as np\n",
    "import pandas as pd\n",
    "import json\n",
    "import matplotlib.pyplot as plt\n",
    "import os"
   ]
  },
  {
   "cell_type": "code",
   "execution_count": null,
   "id": "f5d65e6c-9fd6-4bba-b36d-03749efbac90",
   "metadata": {
    "tags": []
   },
   "outputs": [],
   "source": [
    "max_seq_length = 2048 # Choose any. Unsloth support RoPE Scaling internally\n",
    "dtype = None # None for auto detection. Float16 for Tesla T4, V100, Bfloat16 for Ampere+\n",
    "load_in_4bit = True # Use 4bit quantization to reduce memory usage. Can be False.\n",
    "\n",
    "model, tokenizer = FastLanguageModel.from_pretrained(\n",
    "    model_name = \"unsloth/llama-3-8b-Instruct-bnb-4bit\",\n",
    "    max_seq_length = max_seq_length,\n",
    "    dtype = dtype,\n",
    "    load_in_4bit = load_in_4bit,\n",
    ")\n"
   ]
  },
  {
   "cell_type": "code",
   "execution_count": null,
   "id": "3c3e19b3-948f-43b5-ab37-f3af9ebc4644",
   "metadata": {
    "tags": []
   },
   "outputs": [],
   "source": [
    "def get_token_number(contract):\n",
    "    \"\"\"\n",
    "    field: name of the column that contains the contract\n",
    "    \"\"\"\n",
    "    tokens = tokenizer.encode(contract)\n",
    "    no_of_tokens = len(tokens)\n",
    "    return no_of_tokens"
   ]
  },
  {
   "cell_type": "code",
   "execution_count": null,
   "id": "2efeb67f-81db-49a5-9e61-71d233bfdcd0",
   "metadata": {
    "tags": []
   },
   "outputs": [],
   "source": [
    "folder_path = 'source_documents'"
   ]
  },
  {
   "cell_type": "code",
   "execution_count": null,
   "id": "fffc7710-1b09-4693-ae17-c902c7f32602",
   "metadata": {
    "tags": []
   },
   "outputs": [],
   "source": [
    "file_contents_list = []\n",
    "\n",
    "for filename in os.listdir(folder_path):\n",
    "    if filename.endswith('.txt'):\n",
    "        # Construct the full file path\n",
    "        file_path = os.path.join(folder_path, filename)\n",
    "        \n",
    "        # Open the file and read its contents into a string\n",
    "        with open(file_path, 'r') as file:\n",
    "            file_contents = file.read()\n",
    "        \n",
    "        # Append the file contents to the list\n",
    "        file_contents_list.append(file_contents)\n"
   ]
  },
  {
   "cell_type": "code",
   "execution_count": null,
   "id": "9ca95583-d7ef-42d5-9d8f-ed671b40a9fe",
   "metadata": {
    "tags": []
   },
   "outputs": [],
   "source": [
    "token_counts = []\n",
    "for i in range(len(file_contents_list)):\n",
    "    token_counts.append(get_token_number(file_contents_list[i]))"
   ]
  },
  {
   "cell_type": "code",
   "execution_count": null,
   "id": "69919bd0-814f-4323-ae46-980c4710d51d",
   "metadata": {
    "tags": []
   },
   "outputs": [],
   "source": [
    "print(f'total number of tokens in genie contracts data {sum(token_counts)}')"
   ]
  },
  {
   "cell_type": "code",
   "execution_count": null,
   "id": "748a59f2-0fd9-455e-bb63-f1d5e9d1d346",
   "metadata": {
    "tags": []
   },
   "outputs": [],
   "source": [
    "file_ids = []\n",
    "file_contents = []\n",
    "\n",
    "# Iterate over all files in the folder\n",
    "for filename in os.listdir(folder_path):\n",
    "    if filename.endswith('.txt'):\n",
    "        # Construct the full file path\n",
    "        file_path = os.path.join(folder_path, filename)\n",
    "        \n",
    "        # Open the file and read its contents into a string\n",
    "        with open(file_path, 'r') as file:\n",
    "            file_contents.append(file.read())\n",
    "        \n",
    "        # Append the file name to the list\n",
    "        file_ids.append(filename)\n",
    "\n",
    "# Create a DataFrame from the lists\n",
    "df = pd.DataFrame({'id': file_ids, 'contract': file_contents})"
   ]
  },
  {
   "cell_type": "code",
   "execution_count": null,
   "id": "35eff1c0-41ae-4489-9b38-cac364eacffb",
   "metadata": {
    "tags": []
   },
   "outputs": [],
   "source": [
    "df['source'] = \"Genie\""
   ]
  },
  {
   "cell_type": "code",
   "execution_count": null,
   "id": "0ebd976b-6047-46f5-8604-f6652c984811",
   "metadata": {
    "tags": []
   },
   "outputs": [],
   "source": [
    "df['contract type'] = df['id'].str.extract(r'(^\\w+)', expand=False)"
   ]
  },
  {
   "cell_type": "code",
   "execution_count": null,
   "id": "fe50b477-822d-4cff-bb1a-d0e4c5553a4b",
   "metadata": {
    "tags": []
   },
   "outputs": [],
   "source": [
    "contract_type_mapping = {\n",
    "'NDA': 'non-disclosure agreement',\n",
    "'T': 'terms and conditions agreement',\n",
    "'Vendor': 'vendor agreement',\n",
    "'SaaS': 'software as a service agreement',\n",
    "'IA': 'implementation agreement'}"
   ]
  },
  {
   "cell_type": "code",
   "execution_count": null,
   "id": "8409002e-5244-4336-851e-a2fca622c157",
   "metadata": {
    "tags": []
   },
   "outputs": [],
   "source": [
    "df['contract type'] = df['contract type'].map(contract_type_mapping)"
   ]
  },
  {
   "cell_type": "code",
   "execution_count": null,
   "id": "9b0c3baf-c363-4cfe-a97c-d4de87776877",
   "metadata": {
    "tags": []
   },
   "outputs": [],
   "source": [
    "# producing pie chart for genie data\n",
    "def get_token_number(contract):\n",
    "    \"\"\"\n",
    "    field: name of the column that contains the contract\n",
    "    \"\"\"\n",
    "    tokens = tokenizer.encode(contract)\n",
    "    no_of_tokens = len(tokens)\n",
    "    return no_of_tokens"
   ]
  },
  {
   "cell_type": "code",
   "execution_count": null,
   "id": "7389ffcd-269e-4d52-9c15-f2e9d8ce58df",
   "metadata": {
    "tags": []
   },
   "outputs": [],
   "source": [
    "df['token count'] = df['contract'].apply(get_token_number)\n",
    "contract_type_sums = df.groupby('contract type')['token count'].sum().to_dict()\n",
    "import matplotlib.colors as mcolors\n",
    "\n",
    "labels = list(contract_type_sums.keys())\n",
    "sizes = list(contract_type_sums.values())"
   ]
  },
  {
   "cell_type": "code",
   "execution_count": null,
   "id": "a9ef6069-8c60-4010-9c51-cd358537a0ed",
   "metadata": {
    "tags": []
   },
   "outputs": [],
   "source": [
    "labels"
   ]
  },
  {
   "cell_type": "code",
   "execution_count": null,
   "id": "5f49806c-4678-4bbe-a7e5-afc5425957c3",
   "metadata": {
    "tags": []
   },
   "outputs": [],
   "source": [
    "#colormap = plt.cm.tab20b\n",
    "#colors = colormap(np.linspace(0, 1, len(labels)))\n",
    "\n",
    "contract_type_colors = {\n",
    "    'implementation agreement': 'powderblue',\n",
    "    'terms and conditions agreement': 'lightcoral',\n",
    "    'vendor agreement': 'lightblue',\n",
    "    'non-disclosure agreement': 'lightgoldenrodyellow',\n",
    "    'software as a service agreement':'thistle'\n",
    "}\n",
    "\n",
    "colors = [contract_type_colors[label] for label in labels]\n",
    "\n",
    "\n",
    "plt.figure(figsize=(10, 7))\n",
    "#plt.pie(sizes, labels=labels, colors=colors, autopct='%1.1f%%', startangle=140)\n",
    "plt.pie(sizes, labels=labels, colors=colors, autopct='%1.1f%%', startangle=140, textprops={'fontsize': 15})\n",
    "#plt.legend(labels, loc=\"best\", fontsize=10)\n",
    "plt.axis('equal')  # Equal aspect ratio ensures that pie is drawn as a circle.\n",
    "\n",
    "# Add a title\n",
    "plt.title('Token Count by Contract Type for Genie Dataset')\n",
    "\n",
    "plt.savefig('pie_chart_genie.pdf', format='pdf')\n",
    "\n",
    "# Display the pie chart\n",
    "plt.show()"
   ]
  },
  {
   "cell_type": "code",
   "execution_count": null,
   "id": "b483ee7b-a6ae-4282-92cc-bc37e4c28cab",
   "metadata": {
    "tags": []
   },
   "outputs": [],
   "source": [
    "contract_type_sums"
   ]
  },
  {
   "cell_type": "markdown",
   "id": "5358596e-e691-4208-8c83-c5222f553476",
   "metadata": {},
   "source": [
    "## more pie-charts"
   ]
  },
  {
   "cell_type": "code",
   "execution_count": null,
   "id": "182635a6-8ed2-4420-b2e1-21780fa1de10",
   "metadata": {
    "tags": []
   },
   "outputs": [],
   "source": [
    "risk_type_dict = {'potential issue': 3968,\n",
    "            'red flag': 388}\n",
    "\n",
    "labels = list(risk_type_dict.keys())\n",
    "sizes = list(risk_type_dict.values())\n",
    "\n",
    "colormap = plt.cm.tab10\n",
    "colors = colormap(np.linspace(0, 1, len(labels)))\n",
    "\n",
    "\n",
    "plt.figure(figsize=(10, 7))\n",
    "colors = ['darkseagreen', 'salmon']\n",
    "#plt.pie(sizes, labels=labels, colors=colors, autopct='%1.1f%%', startangle=140)\n",
    "plt.pie(sizes, labels=labels, colors=colors, autopct='%1.1f%%', startangle=140, textprops={'fontsize': 15})\n",
    "#plt.legend(labels, loc=\"best\", fontsize=10)\n",
    "plt.axis('equal')  # Equal aspect ratio ensures that pie is drawn as a circle.\n",
    "\n",
    "# Add a title\n",
    "plt.title('Risk Classes in the Genie Dataset')\n",
    "\n",
    "plt.savefig('pie_chart_genie_risk.pdf', format='pdf')\n",
    "\n",
    "# Display the pie chart\n",
    "plt.show()"
   ]
  },
  {
   "cell_type": "code",
   "execution_count": null,
   "id": "2886b7b5-eb8f-4568-a3dd-0ec86cd6e3f3",
   "metadata": {
    "tags": []
   },
   "outputs": [],
   "source": [
    "no_of_data_by_type = {'non-disclosure agreement': 1055,\n",
    " 'software as a service agreement': 1739,\n",
    " 'terms and conditions agreement': 897,\n",
    " 'vendor agreement': 130,\n",
    " 'implementation agreement': 535}\n"
   ]
  },
  {
   "cell_type": "code",
   "execution_count": null,
   "id": "79b2f4af-543e-4a14-8854-0c8f693ea3ae",
   "metadata": {
    "tags": []
   },
   "outputs": [],
   "source": [
    "labels = list(no_of_data_by_type.keys())\n",
    "sizes = list(no_of_data_by_type.values())\n",
    "\n",
    "#colormap = plt.cm.tab10\n",
    "#colors = colormap(np.linspace(0, 1, len(labels)))\n",
    "\n",
    "contract_type_colors = {\n",
    "    'implementation agreement': 'powderblue',\n",
    "    'terms and conditions agreement': 'lightcoral',\n",
    "    'vendor agreement': 'lightblue',\n",
    "    'non-disclosure agreement': 'lightgoldenrodyellow',\n",
    "    'software as a service agreement':'thistle'\n",
    "}\n",
    "\n",
    "colors = [contract_type_colors[label] for label in labels]\n",
    "\n",
    "\n",
    "plt.figure(figsize=(10, 7))\n",
    "#colors = ['darkseagreen', 'salmon']\n",
    "#plt.pie(sizes, labels=labels, colors=colors, autopct='%1.1f%%', startangle=140)\n",
    "plt.pie(sizes, labels=labels, colors=colors, autopct='%1.1f%%', startangle=140, textprops={'fontsize': 13})\n",
    "#plt.legend(labels, loc=\"best\", fontsize=10)\n",
    "plt.axis('equal')  # Equal aspect ratio ensures that pie is drawn as a circle.\n",
    "\n",
    "# Add a title\n",
    "plt.title('Distribution of Data Points in the Genie Dataset')\n",
    "\n",
    "plt.savefig('pie_chart_genie_data_number.pdf', format='pdf')\n",
    "\n",
    "# Display the pie chart\n",
    "plt.show()"
   ]
  },
  {
   "cell_type": "code",
   "execution_count": null,
   "id": "f5c5ad99-a184-4127-9ca9-15a3dfa2ece5",
   "metadata": {
    "tags": []
   },
   "outputs": [],
   "source": [
    "representing_dict = {'customer': 1486,\n",
    "            'supplier' : 1137,\n",
    "            'recipient': 877,\n",
    "            'company': 535,\n",
    "            'discloser':178,\n",
    "            'licensee' : 143}"
   ]
  },
  {
   "cell_type": "code",
   "execution_count": null,
   "id": "5fe74382-cd6a-4888-ac77-953b4c9dd093",
   "metadata": {
    "tags": []
   },
   "outputs": [],
   "source": [
    "labels = list(representing_dict.keys())\n",
    "sizes = list(representing_dict.values())\n",
    "\n",
    "colormap = plt.cm.tab10\n",
    "colors = colormap(np.linspace(0, 1, len(labels)))\n",
    "\n",
    "\n",
    "plt.figure(figsize=(10, 7))\n",
    "#colors = ['darkseagreen', 'salmon']\n",
    "#plt.pie(sizes, labels=labels, colors=colors, autopct='%1.1f%%', startangle=140)\n",
    "plt.pie(sizes, labels=labels, colors=plt.cm.Set3.colors, autopct='%1.1f%%', startangle=140, textprops={'fontsize': 14})\n",
    "#plt.legend(labels, loc=\"best\", fontsize=10)\n",
    "plt.axis('equal')  # Equal aspect ratio ensures that pie is drawn as a circle.\n",
    "\n",
    "# Add a title\n",
    "plt.title('Distribution of Representing Sides in the Genie Dataset')\n",
    "\n",
    "plt.savefig('pie_chart_genie_representing_sides.pdf', format='pdf')\n",
    "\n",
    "# Display the pie chart\n",
    "plt.show()"
   ]
  },
  {
   "cell_type": "code",
   "execution_count": null,
   "id": "6e36e35f-6ffb-47e9-8667-5daf059a846a",
   "metadata": {
    "tags": []
   },
   "outputs": [],
   "source": [
    "#doing the same thing but for test dataset"
   ]
  },
  {
   "cell_type": "code",
   "execution_count": null,
   "id": "5334b079-ba18-4f3f-8390-f863b5a70f7b",
   "metadata": {
    "tags": []
   },
   "outputs": [],
   "source": [
    "test_dataset = pd.read_csv(\"test_dataset.csv\")"
   ]
  },
  {
   "cell_type": "code",
   "execution_count": null,
   "id": "a3ac1870-65db-437c-a07d-8684dbed78e3",
   "metadata": {
    "tags": []
   },
   "outputs": [],
   "source": [
    "def plot_pie_chart(column, title):\n",
    "    data = test_dataset[column].value_counts()\n",
    "    plt.figure(figsize=(10,7))\n",
    "    plt.pie(data, labels=data.index,colors=plt.cm.Set2.colors, autopct='%1.1f%%', startangle=140,textprops={'fontsize': 15})\n",
    "    plt.title(title)\n",
    "    plt.savefig(title, format='pdf')\n",
    "    plt.show()"
   ]
  },
  {
   "cell_type": "code",
   "execution_count": null,
   "id": "07fee81b-9def-489a-ba3b-75426fc69c39",
   "metadata": {
    "tags": []
   },
   "outputs": [],
   "source": [
    "column = 'contract_type'\n",
    "title = 'Distribution of Contract Types in the Test Dataset'\n",
    "\n",
    "contract_type_colors = {\n",
    "    'implementation agreement': 'powderblue',\n",
    "    'terms and conditions': 'lightcoral',\n",
    "    'vendor agreement': 'lightblue',\n",
    "    'non-disclosure agreement': 'lightgoldenrodyellow',\n",
    "    'SaaS (software as a service)':'thistle'\n",
    "}\n",
    "\n",
    "\n",
    "data = test_dataset[column].value_counts()\n",
    "colors = [contract_type_colors[label] for label in data.index]\n",
    "\n",
    "plt.figure(figsize=(10,7))\n",
    "plt.pie(data, labels=data.index,colors=colors, autopct='%1.1f%%', startangle=140, textprops={'fontsize': 15})\n",
    "plt.title(title)\n",
    "plt.savefig(f\"{title}.pdf\", format='pdf')\n",
    "plt.show()"
   ]
  },
  {
   "cell_type": "code",
   "execution_count": null,
   "id": "cfa7cab8-cd31-4317-b580-7581ad989220",
   "metadata": {
    "tags": []
   },
   "outputs": [],
   "source": [
    "plot_pie_chart('representing', 'Distribution of Representing Sides in the Test Dataset.pdf')"
   ]
  },
  {
   "cell_type": "code",
   "execution_count": null,
   "id": "6b4687b8-dbb0-493f-b87d-9fa654e9f817",
   "metadata": {
    "tags": []
   },
   "outputs": [],
   "source": [
    "plot_pie_chart('ground_truth_label', 'Risk Classes in the Test Dataset')\n"
   ]
  },
  {
   "cell_type": "code",
   "execution_count": null,
   "id": "9c07d28e-78ea-42e2-ba15-07ccf5c43918",
   "metadata": {},
   "outputs": [],
   "source": []
  }
 ],
 "metadata": {
  "environment": {
   "kernel": "conda-base-py",
   "name": "workbench-notebooks.m123",
   "type": "gcloud",
   "uri": "us-docker.pkg.dev/deeplearning-platform-release/gcr.io/workbench-notebooks:m123"
  },
  "kernelspec": {
   "display_name": "Python 3 (ipykernel) (Local)",
   "language": "python",
   "name": "conda-base-py"
  },
  "language_info": {
   "codemirror_mode": {
    "name": "ipython",
    "version": 3
   },
   "file_extension": ".py",
   "mimetype": "text/x-python",
   "name": "python",
   "nbconvert_exporter": "python",
   "pygments_lexer": "ipython3",
   "version": "3.10.14"
  }
 },
 "nbformat": 4,
 "nbformat_minor": 5
}
